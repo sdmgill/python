{
 "cells": [
  {
   "cell_type": "code",
   "execution_count": 1,
   "metadata": {},
   "outputs": [],
   "source": [
    "import math as ma"
   ]
  },
  {
   "cell_type": "code",
   "execution_count": 11,
   "metadata": {},
   "outputs": [],
   "source": [
    "def LatLongFromXY(LocalXf,LocalYf):\n",
    "    #LocalXf = 58322\n",
    "    #LocalYf = 12965\n",
    "\n",
    "    LocalZdf = 0\n",
    "    dOriginLatitude = 40.689072222\n",
    "    dOriginLongitude = -74.164294444\n",
    "    dRotationalAngle = -39.1406\n",
    "    height = -12.052\n",
    "    A = 6378137.0\n",
    "    B = 6356752.3143\n",
    "\n",
    "    LocalX = (LocalXf / 10) * 0.3048\n",
    "    LocalY = (LocalYf / 10) * 0.3048\n",
    "    m_dtor = ma.pi / 180.0\n",
    "    m_RotAngRad = dRotationalAngle * m_dtor\n",
    "    dVec_llX = LocalX * ma.cos(m_RotAngRad) - LocalY * ma.sin(m_RotAngRad)\n",
    "    dVec_llY = LocalX * ma.sin(m_RotAngRad) + LocalY * ma.cos(m_RotAngRad)\n",
    "    dVec_llZ = 0\n",
    "    cphi = ma.cos(dOriginLatitude * m_dtor)\n",
    "    sphi = ma.sin(dOriginLatitude * m_dtor)\n",
    "    clam = ma.cos(dOriginLongitude * m_dtor)\n",
    "    slam = ma.sin(dOriginLongitude * m_dtor)\n",
    "\n",
    "    etn00 = -slam\n",
    "    etn01 = clam\n",
    "    etn02 = 0.0\n",
    "\n",
    "    etn10 = -(sphi * clam)\n",
    "    etn11 = -(sphi * slam)\n",
    "    etn12 = cphi\n",
    "\n",
    "    etn20 = cphi * clam\n",
    "    etn21 = cphi * slam\n",
    "    etn22 = sphi\n",
    "\n",
    "    EarthCenter_X = etn00 * dVec_llX + etn10 * dVec_llY + etn20 * dVec_llZ\n",
    "    EarthCenter_Y = etn01 * dVec_llX + etn11 * dVec_llY + etn21 * dVec_llZ\n",
    "    EarthCenter_Z = etn02 * dVec_llX + etn12 * dVec_llY + etn22 * dVec_llZ\n",
    "\n",
    "    e2 = (A * A - B * B) / (A * A)\n",
    "    n = A / ma.sqrt(1 - e2 * sphi * sphi)\n",
    "\n",
    "    m_OriginEcefX = (n + height) * cphi * ma.cos(dOriginLongitude * m_dtor)\n",
    "    m_OriginEcefY = (n + height) * cphi * ma.sin(dOriginLongitude * m_dtor)\n",
    "    m_OriginEcefZ = (n * (1 - e2) + height) * sphi\n",
    "\n",
    "    EarthCenterX = EarthCenter_X + m_OriginEcefX\n",
    "    EarthCenterY = EarthCenter_Y + m_OriginEcefY\n",
    "    EarthCenterZ = EarthCenter_Z + m_OriginEcefZ\n",
    "\n",
    "    a2 = A * A\n",
    "    b2 = B * B\n",
    "\n",
    "    p = ma.sqrt(EarthCenterX * EarthCenterX + EarthCenterY * EarthCenterY)\n",
    "    t1 = p * (1.0 - e2)\n",
    "\n",
    "    OutputLamda = ma.atan2(EarthCenterY, EarthCenterX)\n",
    "    OutputPhi = ma.atan2(EarthCenterZ, t1 * p)\n",
    "\n",
    "    #breakme = 0\n",
    "    while True:\n",
    "        cp = ma.cos(OutputPhi)\n",
    "        sp = ma.sin(OutputPhi)\n",
    "        r = A / ma.sqrt(1.0 - e2 * sp * sp)\n",
    "        OutputHeight = p / cp -r\n",
    "        t_1 = 1.0 - e2 * r / (r + OutputHeight)\n",
    "        phi_temp = ma.atan2(EarthCenterZ, (t_1 * p))\n",
    "        if(abs(OutputPhi - phi_temp) < 1.0e-10):\n",
    "            break\n",
    "\n",
    "        OutputPhi = phi_temp\n",
    "\n",
    "    pointy = OutputLamda * 180 / ma.pi\n",
    "    pointx = OutputPhi * 180 / ma.pi\n",
    "    #Latitude = round(pointx,10)\n",
    "    #PI = ma.pi\n",
    "\n",
    "    return(pointx,pointy)"
   ]
  },
  {
   "cell_type": "code",
   "execution_count": 12,
   "metadata": {},
   "outputs": [
    {
     "data": {
      "text/plain": [
       "(40.690227708291715, -74.15447984480542)"
      ]
     },
     "execution_count": 12,
     "metadata": {},
     "output_type": "execute_result"
    }
   ],
   "source": [
    "LatLongFromXY(18452,20447)"
   ]
  },
  {
   "cell_type": "code",
   "execution_count": null,
   "metadata": {},
   "outputs": [],
   "source": []
  }
 ],
 "metadata": {
  "kernelspec": {
   "display_name": "Python 3",
   "language": "python",
   "name": "python3"
  },
  "language_info": {
   "codemirror_mode": {
    "name": "ipython",
    "version": 3
   },
   "file_extension": ".py",
   "mimetype": "text/x-python",
   "name": "python",
   "nbconvert_exporter": "python",
   "pygments_lexer": "ipython3",
   "version": "3.6.4"
  }
 },
 "nbformat": 4,
 "nbformat_minor": 2
}
