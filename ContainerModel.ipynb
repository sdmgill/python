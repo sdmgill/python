{
 "cells": [
  {
   "cell_type": "code",
   "execution_count": 24,
   "metadata": {},
   "outputs": [],
   "source": [
    "#%reset -f\n",
    "import os\n",
    "%matplotlib inline \n",
    "\n",
    "import pandas as pd\n",
    "import matplotlib.pyplot as plt\n",
    "import seaborn as sns\n",
    "import numpy as np\n",
    "import scipy.stats as spstats\n",
    "import warnings\n",
    "import os\n",
    "import string\n",
    "import sklearn\n",
    "\n",
    "from sklearn                          import  tree, svm, ensemble, neighbors, linear_model, metrics, preprocessing, datasets\n",
    "from sklearn.preprocessing            import Imputer,LabelEncoder, OneHotEncoder, StandardScaler, PolynomialFeatures\n",
    "from sklearn.cross_validation         import train_test_split\n",
    "from sklearn.model_selection          import train_test_split,KFold,cross_val_score\n",
    "\n",
    "from sklearn.ensemble                 import RandomForestClassifier\n",
    "from sklearn.metrics                  import accuracy_score, classification_report, confusion_matrix,roc_curve,mean_squared_error,mean_absolute_error,r2_score,roc_auc_score,recall_score\n",
    "from time                             import time\n"
   ]
  },
  {
   "cell_type": "code",
   "execution_count": 6,
   "metadata": {},
   "outputs": [
    {
     "name": "stdout",
     "output_type": "stream",
     "text": [
      "**************************************************\n",
      "Current working directory:  C:\\Users\\viveksi\\Google Drive\\Machine Learning Courses\\Viv_own_ML\\PA_ContainerRecoEnginer\n",
      "**************************************************\n",
      "The data is loaded in df\n",
      "**************************************************\n",
      "(661, 28)\n"
     ]
    }
   ],
   "source": [
    "pwd = os.getcwd()  #pwd: Print Working Directory\n",
    "print(\"*\"*50)\n",
    "print ('Current working directory:  %s' %pwd)\n",
    "print(\"*\"*50)\n",
    "df_orig = pd.read_csv('ContainerModelData.csv')\n",
    "df=df_orig\n",
    "print(\"The data is loaded in df\")\n",
    "print(\"*\"*50)\n",
    "print(df.shape)"
   ]
  },
  {
   "cell_type": "code",
   "execution_count": 7,
   "metadata": {},
   "outputs": [],
   "source": [
    "## CleanUp\n",
    "df = df[df['AVG_30_MIN']>=0]\n",
    "df = df[df['DIST']>=0]\n",
    "df = df.drop(['GKEY','TRUCK_ENTERED','EDATE','EXITED','PICK_YARD_POS','DROP_POS','RTG','HAD_TROUBLE'],axis=1)"
   ]
  },
  {
   "cell_type": "code",
   "execution_count": 8,
   "metadata": {},
   "outputs": [
    {
     "name": "stdout",
     "output_type": "stream",
     "text": [
      "Rows & Columns:  (655, 20)\n"
     ]
    }
   ],
   "source": [
    "# We can clip these outliers\n",
    "df_clipped = df[df['TT_MIN'] <=180]\n",
    "print ('Rows & Columns: ',df_clipped.shape)"
   ]
  },
  {
   "cell_type": "markdown",
   "metadata": {},
   "source": [
    "## Encoding"
   ]
  },
  {
   "cell_type": "code",
   "execution_count": 16,
   "metadata": {},
   "outputs": [],
   "source": [
    "categorical_cols =['PICK_ROW_NBR']\n",
    "df_encoded =pd.get_dummies(df_clipped, columns=categorical_cols, prefix=categorical_cols)"
   ]
  },
  {
   "cell_type": "code",
   "execution_count": 17,
   "metadata": {},
   "outputs": [
    {
     "name": "stdout",
     "output_type": "stream",
     "text": [
      "**************************************************\n",
      "Rows & Columns:  (655, 24)\n",
      "**************************************************\n"
     ]
    },
    {
     "data": {
      "text/html": [
       "<div>\n",
       "<style scoped>\n",
       "    .dataframe tbody tr th:only-of-type {\n",
       "        vertical-align: middle;\n",
       "    }\n",
       "\n",
       "    .dataframe tbody tr th {\n",
       "        vertical-align: top;\n",
       "    }\n",
       "\n",
       "    .dataframe thead th {\n",
       "        text-align: right;\n",
       "    }\n",
       "</style>\n",
       "<table border=\"1\" class=\"dataframe\">\n",
       "  <thead>\n",
       "    <tr style=\"text-align: right;\">\n",
       "      <th></th>\n",
       "      <th>PHOUR</th>\n",
       "      <th>tv_trans_count</th>\n",
       "      <th>DROP_POS_ID</th>\n",
       "      <th>DIST</th>\n",
       "      <th>DROP_ROW_NBR</th>\n",
       "      <th>DROP_POS_ID_FLD</th>\n",
       "      <th>DROP_POS_FLD</th>\n",
       "      <th>DIST_FLD</th>\n",
       "      <th>DROP_ROW_NBR_FLD</th>\n",
       "      <th>TT_MIN</th>\n",
       "      <th>...</th>\n",
       "      <th>TOT</th>\n",
       "      <th>TRK_IN_ROW</th>\n",
       "      <th>TIER</th>\n",
       "      <th>AVG_30_MIN</th>\n",
       "      <th>RTG_Count</th>\n",
       "      <th>PICK_ROW_NBR_H</th>\n",
       "      <th>PICK_ROW_NBR_I</th>\n",
       "      <th>PICK_ROW_NBR_J</th>\n",
       "      <th>PICK_ROW_NBR_K</th>\n",
       "      <th>PICK_ROW_NBR_L</th>\n",
       "    </tr>\n",
       "  </thead>\n",
       "  <tbody>\n",
       "    <tr>\n",
       "      <th>0</th>\n",
       "      <td>11</td>\n",
       "      <td>2</td>\n",
       "      <td>381F2.B</td>\n",
       "      <td>262</td>\n",
       "      <td>F</td>\n",
       "      <td>381F3.C</td>\n",
       "      <td>381</td>\n",
       "      <td>272</td>\n",
       "      <td>F</td>\n",
       "      <td>18</td>\n",
       "      <td>...</td>\n",
       "      <td>9</td>\n",
       "      <td>29</td>\n",
       "      <td>2</td>\n",
       "      <td>30.0</td>\n",
       "      <td>2</td>\n",
       "      <td>0</td>\n",
       "      <td>0</td>\n",
       "      <td>0</td>\n",
       "      <td>0</td>\n",
       "      <td>1</td>\n",
       "    </tr>\n",
       "    <tr>\n",
       "      <th>1</th>\n",
       "      <td>9</td>\n",
       "      <td>2</td>\n",
       "      <td>430M8.B</td>\n",
       "      <td>302</td>\n",
       "      <td>M</td>\n",
       "      <td>430M10.B</td>\n",
       "      <td>430</td>\n",
       "      <td>312</td>\n",
       "      <td>M</td>\n",
       "      <td>8</td>\n",
       "      <td>...</td>\n",
       "      <td>4</td>\n",
       "      <td>32</td>\n",
       "      <td>3</td>\n",
       "      <td>30.0</td>\n",
       "      <td>5</td>\n",
       "      <td>0</td>\n",
       "      <td>1</td>\n",
       "      <td>0</td>\n",
       "      <td>0</td>\n",
       "      <td>0</td>\n",
       "    </tr>\n",
       "    <tr>\n",
       "      <th>2</th>\n",
       "      <td>10</td>\n",
       "      <td>2</td>\n",
       "      <td>122B4.D</td>\n",
       "      <td>606</td>\n",
       "      <td>B</td>\n",
       "      <td>122B4.C</td>\n",
       "      <td>122</td>\n",
       "      <td>616</td>\n",
       "      <td>B</td>\n",
       "      <td>8</td>\n",
       "      <td>...</td>\n",
       "      <td>5</td>\n",
       "      <td>34</td>\n",
       "      <td>2</td>\n",
       "      <td>26.0</td>\n",
       "      <td>5</td>\n",
       "      <td>0</td>\n",
       "      <td>1</td>\n",
       "      <td>0</td>\n",
       "      <td>0</td>\n",
       "      <td>0</td>\n",
       "    </tr>\n",
       "    <tr>\n",
       "      <th>3</th>\n",
       "      <td>10</td>\n",
       "      <td>2</td>\n",
       "      <td>426E3.B</td>\n",
       "      <td>156</td>\n",
       "      <td>E</td>\n",
       "      <td>426E3.C</td>\n",
       "      <td>426</td>\n",
       "      <td>166</td>\n",
       "      <td>E</td>\n",
       "      <td>8</td>\n",
       "      <td>...</td>\n",
       "      <td>5</td>\n",
       "      <td>39</td>\n",
       "      <td>2</td>\n",
       "      <td>40.0</td>\n",
       "      <td>4</td>\n",
       "      <td>0</td>\n",
       "      <td>0</td>\n",
       "      <td>0</td>\n",
       "      <td>0</td>\n",
       "      <td>1</td>\n",
       "    </tr>\n",
       "    <tr>\n",
       "      <th>4</th>\n",
       "      <td>11</td>\n",
       "      <td>2</td>\n",
       "      <td>122B1.B</td>\n",
       "      <td>502</td>\n",
       "      <td>B</td>\n",
       "      <td>122B2.B</td>\n",
       "      <td>122</td>\n",
       "      <td>512</td>\n",
       "      <td>B</td>\n",
       "      <td>19</td>\n",
       "      <td>...</td>\n",
       "      <td>10</td>\n",
       "      <td>31</td>\n",
       "      <td>1</td>\n",
       "      <td>31.0</td>\n",
       "      <td>2</td>\n",
       "      <td>0</td>\n",
       "      <td>0</td>\n",
       "      <td>0</td>\n",
       "      <td>0</td>\n",
       "      <td>1</td>\n",
       "    </tr>\n",
       "  </tbody>\n",
       "</table>\n",
       "<p>5 rows × 24 columns</p>\n",
       "</div>"
      ],
      "text/plain": [
       "   PHOUR  tv_trans_count DROP_POS_ID  DIST DROP_ROW_NBR DROP_POS_ID_FLD  \\\n",
       "0     11               2     381F2.B   262            F         381F3.C   \n",
       "1      9               2     430M8.B   302            M        430M10.B   \n",
       "2     10               2     122B4.D   606            B         122B4.C   \n",
       "3     10               2     426E3.B   156            E         426E3.C   \n",
       "4     11               2     122B1.B   502            B         122B2.B   \n",
       "\n",
       "   DROP_POS_FLD  DIST_FLD DROP_ROW_NBR_FLD  TT_MIN       ...        TOT  \\\n",
       "0           381       272                F      18       ...          9   \n",
       "1           430       312                M       8       ...          4   \n",
       "2           122       616                B       8       ...          5   \n",
       "3           426       166                E       8       ...          5   \n",
       "4           122       512                B      19       ...         10   \n",
       "\n",
       "   TRK_IN_ROW  TIER  AVG_30_MIN  RTG_Count  PICK_ROW_NBR_H  PICK_ROW_NBR_I  \\\n",
       "0          29     2        30.0          2               0               0   \n",
       "1          32     3        30.0          5               0               1   \n",
       "2          34     2        26.0          5               0               1   \n",
       "3          39     2        40.0          4               0               0   \n",
       "4          31     1        31.0          2               0               0   \n",
       "\n",
       "   PICK_ROW_NBR_J  PICK_ROW_NBR_K  PICK_ROW_NBR_L  \n",
       "0               0               0               1  \n",
       "1               0               0               0  \n",
       "2               0               0               0  \n",
       "3               0               0               1  \n",
       "4               0               0               1  \n",
       "\n",
       "[5 rows x 24 columns]"
      ]
     },
     "execution_count": 17,
     "metadata": {},
     "output_type": "execute_result"
    }
   ],
   "source": [
    "print(\"*\"*50)\n",
    "print ('Rows & Columns: ',df_encoded.shape)\n",
    "print(\"*\"*50)\n",
    "df_encoded=df_encoded.round(decimals=0) # rounding weights\n",
    "df_encoded.head()"
   ]
  },
  {
   "cell_type": "code",
   "execution_count": 18,
   "metadata": {},
   "outputs": [],
   "source": [
    "### Remove TT_MIN\n",
    "df_encoded = df_encoded.drop(['TT_MIN','DROP_ROW_NBR','PHOUR','RTG_Count','DROP_POS_ID','DROP_POS_ID_FLD','DROP_POS_FLD','DIST_FLD','DROP_ROW_NBR_FLD'],axis=1)\n"
   ]
  },
  {
   "cell_type": "markdown",
   "metadata": {},
   "source": [
    "## Split Train and Test Data"
   ]
  },
  {
   "cell_type": "code",
   "execution_count": 19,
   "metadata": {},
   "outputs": [
    {
     "name": "stdout",
     "output_type": "stream",
     "text": [
      "(524, 14) (524,)\n",
      "(131, 14) (131,)\n"
     ]
    }
   ],
   "source": [
    "X = df_encoded.drop('TGT_TT',axis=1)\n",
    "y = df_encoded['TGT_TT']\n",
    "X_train, X_test, y_train, y_test = train_test_split(X, y, test_size = 0.20, random_state = 123)\n",
    "print (X_train.shape, y_train.shape)\n",
    "print (X_test.shape, y_test.shape)"
   ]
  },
  {
   "cell_type": "markdown",
   "metadata": {},
   "source": [
    "## Feature Scaling"
   ]
  },
  {
   "cell_type": "code",
   "execution_count": 21,
   "metadata": {},
   "outputs": [],
   "source": [
    "sc_X = StandardScaler()\n",
    "X_train = sc_X.fit_transform(X_train)\n",
    "X_test = sc_X.transform(X_test)"
   ]
  },
  {
   "cell_type": "code",
   "execution_count": 25,
   "metadata": {},
   "outputs": [
    {
     "name": "stdout",
     "output_type": "stream",
     "text": [
      "**************************************************\n",
      "Accuracy:  0.44274809160305345\n",
      "**************************************************\n",
      "Confusion Matrix:\n",
      "[[20 28  2]\n",
      " [14 18 10]\n",
      " [ 8 11 20]]\n",
      "**************************************************\n",
      "Classification Report:\n",
      "             precision    recall  f1-score   support\n",
      "\n",
      "          1       0.48      0.40      0.43        50\n",
      "          2       0.32      0.43      0.36        42\n",
      "          3       0.62      0.51      0.56        39\n",
      "\n",
      "avg / total       0.47      0.44      0.45       131\n",
      "\n",
      "**************************************************\n"
     ]
    }
   ],
   "source": [
    "model = RandomForestClassifier(n_estimators=60, random_state=12,max_depth=15,min_samples_split=15)\n",
    "model.fit(X_train, y_train)\n",
    "model_pred =(model.predict(X_test))\n",
    "print(\"*\"*50)\n",
    "print('Accuracy: ',accuracy_score(y_test,model_pred))\n",
    "print(\"*\"*50)\n",
    "print('Confusion Matrix:')\n",
    "print(confusion_matrix(y_test,model_pred))\n",
    "print(\"*\"*50)\n",
    "print('Classification Report:')\n",
    "print(classification_report(y_test,model_pred))\n",
    "print(\"*\"*50)"
   ]
  },
  {
   "cell_type": "code",
   "execution_count": 26,
   "metadata": {},
   "outputs": [
    {
     "name": "stdout",
     "output_type": "stream",
     "text": [
      "Feature importance:\n",
      "1) TRK_IN_ROW : 100\n",
      "2) TOT : 94\n",
      "3) AVG_30_MIN : 89\n",
      "4) DIST : 82\n",
      "5) TRK_OPP : 70\n",
      "6) ROW_Feature : 63\n",
      "7) TRK_IN_BTW : 56\n",
      "8) TIER : 22\n",
      "9) PICK_ROW_NBR_J : 19\n",
      "10) PICK_ROW_NBR_I : 15\n",
      "11) PICK_ROW_NBR_K : 11\n",
      "12) PICK_ROW_NBR_L : 5\n",
      "13) PICK_ROW_NBR_H : 3\n",
      "14) tv_trans_count : 0\n"
     ]
    },
    {
     "data": {
      "image/png": "[encoded data removed]",
      "text/plain": [
       "<Figure size 432x288 with 1 Axes>"
      ]
     },
     "metadata": {},
     "output_type": "display_data"
    }
   ],
   "source": [
    "feature_importance = model.feature_importances_\n",
    "feature_importance = 100.0 * (feature_importance / feature_importance.max())\n",
    "sorted_idx = np.argsort(feature_importance)[::-1]\n",
    "print (\"Feature importance:\")\n",
    "i=1\n",
    "for f,w in zip(X.columns[sorted_idx], feature_importance[sorted_idx]):\n",
    "    print (\"%d) %s : %d\" % (i, f, w))\n",
    "    i+=1\n",
    "pos = np.arange(sorted_idx.shape[0]) + .5\n",
    "plt.subplot(1,1,1)\n",
    "nb_to_display = 30\n",
    "plt.barh(pos[:nb_to_display], feature_importance[sorted_idx][:nb_to_display], align='center')\n",
    "plt.yticks(pos[:nb_to_display], X.columns[sorted_idx][:nb_to_display])\n",
    "plt.xlabel('Relative Importance')\n",
    "plt.title('Variable Importance')\n",
    "plt.show()"
   ]
  },
  {
   "cell_type": "code",
   "execution_count": null,
   "metadata": {},
   "outputs": [],
   "source": []
  }
 ],
 "metadata": {
  "kernelspec": {
   "display_name": "Python 3",
   "language": "python",
   "name": "python3"
  },
  "language_info": {
   "codemirror_mode": {
    "name": "ipython",
    "version": 3
   },
   "file_extension": ".py",
   "mimetype": "text/x-python",
   "name": "python",
   "nbconvert_exporter": "python",
   "pygments_lexer": "ipython3",
   "version": "3.6.6"
  }
 },
 "nbformat": 4,
 "nbformat_minor": 2
}
