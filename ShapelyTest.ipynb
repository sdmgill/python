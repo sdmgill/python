{
 "cells": [
  {
   "cell_type": "code",
   "execution_count": 28,
   "metadata": {},
   "outputs": [],
   "source": [
    "from shapely.geometry import Point\n",
    "from shapely.geometry.polygon import Polygon\n",
    "import pymssql\n",
    "import pandas as pd"
   ]
  },
  {
   "cell_type": "code",
   "execution_count": 29,
   "metadata": {},
   "outputs": [],
   "source": [
    "conn = pymssql.connect(\n",
    "    host=r'10.50.10.124',\n",
    "    user=r'sql_streamsets_p',\n",
    "    password='1QTWHcdmd2Rr3yYMcI9f',\n",
    "    database='stg_mistar_prd'\n",
    ")"
   ]
  },
  {
   "cell_type": "code",
   "execution_count": 30,
   "metadata": {},
   "outputs": [],
   "source": [
    "cur = conn.cursor(as_dict=True)\n",
    "md = cur.execute(\"SELECT position1x,position1y,position2x,position2y,position3x,position3y,\\\n",
    "                    ROUND((position1x - position2x + position3x), 2) AS position4x,\\\n",
    "                    ROUND((position1y - position2y + position3y), 2) AS position4y,\\\n",
    "                    CASE WHEN lot LIKE '%GR%' THEN SUBSTRING(lot, 1, 3)\\\n",
    "                            WHEN lot LIKE '%RX%' THEN 'RX'\\\n",
    "                            WHEN lot LIKE '%RF%' THEN 'RF'\\\n",
    "                            WHEN lot LIKE '%RZ%' THEN 'RZ'\\\n",
    "                            ELSE lot\\\n",
    "                    END AS lot\\\n",
    "            from MapData\")"
   ]
  },
  {
   "cell_type": "code",
   "execution_count": 31,
   "metadata": {},
   "outputs": [],
   "source": [
    "df = pd.DataFrame(md)"
   ]
  },
  {
   "cell_type": "code",
   "execution_count": 32,
   "metadata": {},
   "outputs": [
    {
     "name": "stdout",
     "output_type": "stream",
     "text": [
      "Empty DataFrame\n",
      "Columns: []\n",
      "Index: []\n"
     ]
    }
   ],
   "source": [
    "# while row:\n",
    "#     print(row)\n",
    "#     row = cur.fetchone()\n",
    "\n",
    "# for row in cur:\n",
    "#     print(row)\n",
    "\n",
    "print(df)\n",
    "# conn.close    \n"
   ]
  },
  {
   "cell_type": "code",
   "execution_count": null,
   "metadata": {},
   "outputs": [],
   "source": []
  }
 ],
 "metadata": {
  "kernelspec": {
   "display_name": "Python 3",
   "language": "python",
   "name": "python3"
  },
  "language_info": {
   "codemirror_mode": {
    "name": "ipython",
    "version": 3
   },
   "file_extension": ".py",
   "mimetype": "text/x-python",
   "name": "python",
   "nbconvert_exporter": "python",
   "pygments_lexer": "ipython3",
   "version": "3.6.7"
  }
 },
 "nbformat": 4,
 "nbformat_minor": 2
}
